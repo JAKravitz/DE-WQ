{
 "cells": [
  {
   "cell_type": "code",
   "execution_count": 7,
   "id": "82124798-bed6-4acc-b9fa-ff5fab4bdd6e",
   "metadata": {},
   "outputs": [],
   "source": [
    "import numpy as np\n",
    "import pandas as pd\n",
    "import yaml\n",
    "import torch\n",
    "import pickle"
   ]
  },
  {
   "cell_type": "code",
   "execution_count": 2,
   "id": "5f23053c-a0a2-47f7-8deb-23d8cd819e33",
   "metadata": {},
   "outputs": [
    {
     "data": {
      "text/plain": [
       "(265, 81)"
      ]
     },
     "execution_count": 2,
     "metadata": {},
     "output_type": "execute_result"
    }
   ],
   "source": [
    "insitu = pd.read_csv('/Users/jakravit/Desktop/WaterQuality/data/Rrs_chl_matchups_polymer_v2.csv')\n",
    "rrs_test = insitu.filter(regex='^[0-9]')\n",
    "chl_test = insitu.chl\n",
    "rrs_test.shape"
   ]
  },
  {
   "cell_type": "code",
   "execution_count": 5,
   "id": "cca643fc-4874-4424-8f47-4b5c3b63ae42",
   "metadata": {},
   "outputs": [],
   "source": [
    "from src.de_model import DE\n",
    "\n",
    "def load_full_model(fpath):\n",
    "    model = torch.load(fpath)\n",
    "    model.eval()\n",
    "    return model\n",
    "\n",
    "def read_yaml(fpath_yaml):\n",
    "    yml_conf = None\n",
    "    with open(fpath_yaml) as f_yaml:\n",
    "        yml_conf = yaml.load(f_yaml, Loader=yaml.FullLoader)\n",
    "    return yml_conf\n",
    "\n",
    "def predict(gmm, x):\n",
    "    mus, sigma_sqs = [], []\n",
    "    for i in range(gmm.num_models):\n",
    "        model = getattr(gmm, 'model_' + str(i))\n",
    "\n",
    "        with torch.no_grad():\n",
    "            model.eval()\n",
    "\n",
    "        mu, sigma_sq = model(x)\n",
    "        mu = mu.detach().numpy()\n",
    "        sigma_sq = sigma_sq.detach().numpy()\n",
    "        mus.append(mu)\n",
    "        sigma_sqs.append(sigma_sq)\n",
    "\n",
    "    mus = np.squeeze(np.array(mus))\n",
    "    sigma_sqs = np.squeeze(np.array(sigma_sqs))\n",
    "    mixture_mus = np.mean(mus, axis=0)\n",
    "    mixture_sigmas = np.mean((sigma_sqs + mus**2), axis=0) - mixture_mus**2\n",
    "    mixture_sigmas = np.sqrt(mixture_sigmas)\n",
    "\n",
    "    return mixture_mus, mixture_sigmas\n",
    "\n",
    "def load_from_state(fpath, mdl, n_in, batch_info, strict=False):\n",
    "    n_hidden = batch_info[\"n_hidden\"]\n",
    "    num_gaussians = batch_info[\"num_gaussians\"]\n",
    "    num_lin_layers = batch_info[\"num_lin_layers\"]\n",
    "    if mdl == \"mdn\":\n",
    "        model = MDN(n_in, n_hidden, num_gaussians, num_lin_layers)\n",
    "        model.load_state_dict(torch.load(fpath[0]), strict=strict)\n",
    "    else:\n",
    "        model = DE(num_models=num_gaussians, inputs=n_in, hidden_layers=n_hidden, n_lin_layers=num_lin_layers)\n",
    "        for i in range(len(fpath)):\n",
    "            ensemble_mem = getattr(model, 'model_' + str(i))\n",
    "            ensemble_mem.load_state_dict(torch.load(fpath[i]), strict=strict)\n",
    "    model.eval()\n",
    "    return model"
   ]
  },
  {
   "cell_type": "code",
   "execution_count": 16,
   "id": "ff8c2817-0e50-4ec3-96ca-ad9f46aacb0b",
   "metadata": {},
   "outputs": [
    {
     "name": "stderr",
     "output_type": "stream",
     "text": [
      "/opt/anaconda3/envs/rasterio/lib/python3.7/site-packages/sklearn/base.py:444: UserWarning: X has feature names, but StandardScaler was fitted without feature names\n",
      "  f\"X has feature names, but {self.__class__.__name__} was fitted without\"\n"
     ]
    }
   ],
   "source": [
    "\n",
    "# DE config file\n",
    "conf = '/Users/jakravit/Desktop/WaterQuality/conf/hico_conf_polymer_rrs_chl_v2.yaml'\n",
    "conf = read_yaml(conf)\n",
    "batch_info = conf['batch_info']\n",
    "\n",
    "# model\n",
    "params=[]\n",
    "ppath = '/Users/jakravit/Desktop/WaterQuality/experiments/HICO_polymer_rrs_chl_v2/model_weights/'\n",
    "for p in os.listdir(ppath):\n",
    "    params.append(ppath+p)\n",
    "XScalerFname = '/Users/jakravit/Desktop/WaterQuality/experiments/HICO_polymer_rrs_chl_v2/x_scaler.pkl'\n",
    "YScalerFname = '/Users/jakravit/Desktop/WaterQuality/experiments/HICO_polymer_rrs_chl_v2/y_scaler.pkl'\n",
    "Xscaler = pickle.load(open(XScalerFname,'rb'))\n",
    "Yscaler = pickle.load(open(YScalerFname,'rb'))\n",
    "rrs_test_log = np.log(rrs_test)\n",
    "feats_scaled = Xscaler.transform(rrs_test_log)\n",
    "n_in = feats_scaled.shape[1]\n",
    "model = load_from_state(params, batch_info['model'], n_in, batch_info)\n",
    "x_tensor = torch.from_numpy(np.float32(feats_scaled))\n",
    "y_pred, unc = predict(model, x_tensor,)\n",
    "pred_unscale = Yscaler.inverse_transform(y_pred.reshape(1,-1))\n",
    "chl_unlog = np.exp(pred_unscale)[0,:]\n",
    "# chl = chl_unlog.reshape(feats.shape[1], feats.shape[2])"
   ]
  },
  {
   "cell_type": "code",
   "execution_count": 18,
   "id": "c23fb3c1-df63-4568-a40c-2d2b1711cacc",
   "metadata": {
    "tags": []
   },
   "outputs": [
    {
     "data": {
      "text/plain": [
       "<matplotlib.collections.PathCollection at 0x7f8c2953ec10>"
      ]
     },
     "execution_count": 18,
     "metadata": {},
     "output_type": "execute_result"
    },
    {
     "data": {
      "image/png": "[encoded data removed]",
      "text/plain": [
       "<Figure size 432x288 with 1 Axes>"
      ]
     },
     "metadata": {
      "needs_background": "light"
     },
     "output_type": "display_data"
    }
   ],
   "source": [
    "import matplotlib.pyplot as plt\n",
    "\n",
    "plt.scatter(chl_test, chl_unlog)"
   ]
  },
  {
   "cell_type": "code",
   "execution_count": null,
   "id": "15b38a52-9378-43ef-83ad-f5fcd97b139d",
   "metadata": {},
   "outputs": [],
   "source": [
    "chl_unlog"
   ]
  }
 ],
 "metadata": {
  "kernelspec": {
   "display_name": "Python 3 (ipykernel)",
   "language": "python",
   "name": "python3"
  },
  "language_info": {
   "codemirror_mode": {
    "name": "ipython",
    "version": 3
   },
   "file_extension": ".py",
   "mimetype": "text/x-python",
   "name": "python",
   "nbconvert_exporter": "python",
   "pygments_lexer": "ipython3",
   "version": "3.7.13"
  }
 },
 "nbformat": 4,
 "nbformat_minor": 5
}
